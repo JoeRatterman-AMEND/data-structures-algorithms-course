{
 "cells": [
  {
   "cell_type": "markdown",
   "metadata": {},
   "source": [
    "## Assignment 1\n",
    "In this very first programming challenge, your goal is to implement a program that reads two digits from the standard input and prints their sum to the standard output. We start from this simple problem to show you the pipeline of submitting a solution to the grading system. In particular, the folder week1_programming_challenges/1_sum_of_two_digits in the following archive file contains solutions to this problem in various programming languages. Select the solution in your favourite programming language and submit it under the \"My submission\" tab. More details on the submission process are given in Sum of Two Digits section of the file week1_programming_challenges/week1_programming_challenges.pdf in the same archive file."
   ]
  },
  {
   "cell_type": "code",
   "execution_count": 11,
   "metadata": {},
   "outputs": [],
   "source": [
    "# Define function to add two numbers\n",
    "def add_two_nos(num):\n",
    "\n",
    "    # Convert input to string\n",
    "    num_total = str(num)\n",
    "\n",
    "    # Return result\n",
    "    return int(num_total[0]) + int(num_total[2])"
   ]
  },
  {
   "cell_type": "code",
   "execution_count": 12,
   "metadata": {},
   "outputs": [],
   "source": [
    "# Input = '6 8'"
   ]
  },
  {
   "cell_type": "code",
   "execution_count": 13,
   "metadata": {},
   "outputs": [
    {
     "data": {
      "text/plain": [
       "14"
      ]
     },
     "execution_count": 13,
     "metadata": {},
     "output_type": "execute_result"
    }
   ],
   "source": [
    "# Request input from user\n",
    "input_num = input('Add two number in this format \"# #\": ')\n",
    "\n",
    "# Run user defined function\n",
    "add_two_nos(input_num)"
   ]
  },
  {
   "cell_type": "markdown",
   "metadata": {},
   "source": [
    "### Notes\n",
    "I have no requirement for appropriate input style. Currently, it must be 3 characters & it must be in the '# #' format. In a future iteration, I would force the input to have a specified structure. I also assume that the numbers are one digit only. <br>\n",
    "\n",
    "Plan to revisit following additional material on input definition. "
   ]
  }
 ],
 "metadata": {
  "kernelspec": {
   "display_name": "Python 3.9.2 64-bit",
   "language": "python",
   "name": "python3"
  },
  "language_info": {
   "codemirror_mode": {
    "name": "ipython",
    "version": 3
   },
   "file_extension": ".py",
   "mimetype": "text/x-python",
   "name": "python",
   "nbconvert_exporter": "python",
   "pygments_lexer": "ipython3",
   "version": "3.9.2"
  },
  "orig_nbformat": 4,
  "vscode": {
   "interpreter": {
    "hash": "af75dc706a0fe827ed83b1bb26dba7ea7769d1f4bd4134e36dd05f2646e816e5"
   }
  }
 },
 "nbformat": 4,
 "nbformat_minor": 2
}
